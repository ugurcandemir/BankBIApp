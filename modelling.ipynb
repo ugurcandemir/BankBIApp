{
 "cells": [
  {
   "cell_type": "code",
   "execution_count": 1,
   "id": "8b2cdbd7",
   "metadata": {},
   "outputs": [
    {
     "data": {
      "text/plain": [
       "['kredi_skorlama_model.pkl']"
      ]
     },
     "execution_count": 1,
     "metadata": {},
     "output_type": "execute_result"
    }
   ],
   "source": [
    "# kredi_skorlama_model.py\n",
    "import pandas as pd\n",
    "from sklearn.preprocessing import LabelEncoder\n",
    "from sklearn.ensemble import RandomForestClassifier\n",
    "from sklearn.model_selection import train_test_split\n",
    "import joblib\n",
    "\n",
    "# Veri yükle\n",
    "df = pd.read_excel(\"credit_scoring_dataset_120.xlsx\")\n",
    "\n",
    "# Kategorik değişkenleri label encode et\n",
    "categorical_cols = ['kredi_gecmisi', 'meslek_grubu', 'egitim_durumu']\n",
    "df[categorical_cols] = df[categorical_cols].apply(LabelEncoder().fit_transform)\n",
    "\n",
    "# Hedefi sayısal hale getir\n",
    "df['risk_sinifi'] = df['risk_sinifi'].map({'yüksek': 0, 'orta': 1, 'düşük': 2})\n",
    "\n",
    "X = df.drop('risk_sinifi', axis=1)\n",
    "y = df['risk_sinifi']\n",
    "\n",
    "X_train, X_test, y_train, y_test = train_test_split(X, y, test_size=0.2, random_state=42)\n",
    "\n",
    "model = RandomForestClassifier()\n",
    "model.fit(X_train, y_train)\n",
    "\n",
    "joblib.dump(model, \"kredi_skorlama_model.pkl\")\n"
   ]
  },
  {
   "cell_type": "code",
   "execution_count": 5,
   "id": "f1757d7d",
   "metadata": {},
   "outputs": [
    {
     "data": {
      "text/plain": [
       "['fraud_detection_model.pkl']"
      ]
     },
     "execution_count": 5,
     "metadata": {},
     "output_type": "execute_result"
    }
   ],
   "source": [
    "# fraud_detection_model_fixed.py\n",
    "import pandas as pd\n",
    "from sklearn.ensemble import RandomForestClassifier\n",
    "from sklearn.model_selection import train_test_split\n",
    "from sklearn.preprocessing import LabelEncoder\n",
    "import joblib\n",
    "\n",
    "# Veri yükle\n",
    "df = pd.read_excel(\"fraud_detection_dataset.xlsx\")\n",
    "\n",
    "# Kategorik değişkenleri dönüştür\n",
    "categorical_cols = ['islem_tipi']\n",
    "df[categorical_cols] = df[categorical_cols].apply(LabelEncoder().fit_transform)\n",
    "\n",
    "# Özellikler ve hedefi ayır\n",
    "X = df.drop('is_fraud', axis=1)\n",
    "y = df['is_fraud']\n",
    "\n",
    "# Eğitim ve test bölmesi\n",
    "X_train, X_test, y_train, y_test = train_test_split(X, y, stratify=y, test_size=0.2, random_state=42)\n",
    "\n",
    "# Model tanımla ve eğit\n",
    "model = RandomForestClassifier(class_weight=\"balanced\")\n",
    "model.fit(X_train, y_train)\n",
    "\n",
    "# Kaydet\n",
    "joblib.dump(model, \"fraud_detection_model.pkl\")\n",
    "\n"
   ]
  },
  {
   "cell_type": "code",
   "execution_count": 3,
   "id": "c3beb52c",
   "metadata": {},
   "outputs": [
    {
     "data": {
      "text/plain": [
       "['urun_oneri_model.pkl']"
      ]
     },
     "execution_count": 3,
     "metadata": {},
     "output_type": "execute_result"
    }
   ],
   "source": [
    "# urun_oneri_model.py\n",
    "import pandas as pd\n",
    "from sklearn.preprocessing import LabelEncoder, StandardScaler\n",
    "from sklearn.cluster import KMeans\n",
    "import joblib\n",
    "\n",
    "df = pd.read_csv(\"bank_product_recommendation_dataset.csv\")\n",
    "\n",
    "# Kategorikleri encode et\n",
    "df['yatirim_tecrubesi'] = LabelEncoder().fit_transform(df['yatirim_tecrubesi'])\n",
    "df['risk_toleransi'] = LabelEncoder().fit_transform(df['risk_toleransi'])\n",
    "\n",
    "X = df.drop(['onerilen_urun'], axis=1)\n",
    "\n",
    "scaler = StandardScaler()\n",
    "X_scaled = scaler.fit_transform(X)\n",
    "\n",
    "kmeans = KMeans(n_clusters=3, random_state=42)\n",
    "kmeans.fit(X_scaled)\n",
    "\n",
    "joblib.dump((scaler, kmeans), \"urun_oneri_model.pkl\")\n"
   ]
  },
  {
   "cell_type": "code",
   "execution_count": 4,
   "id": "7a1f2517",
   "metadata": {},
   "outputs": [
    {
     "data": {
      "text/plain": [
       "['konut_fiyatlama_model.pkl']"
      ]
     },
     "execution_count": 4,
     "metadata": {},
     "output_type": "execute_result"
    }
   ],
   "source": [
    "# konut_fiyatlama_model.py\n",
    "import pandas as pd\n",
    "from sklearn.preprocessing import LabelEncoder\n",
    "from sklearn.ensemble import RandomForestRegressor\n",
    "from sklearn.model_selection import train_test_split\n",
    "import joblib\n",
    "\n",
    "df = pd.read_excel(\"housing_price_dataset.xlsx\")\n",
    "\n",
    "df['oda_sayisi'] = LabelEncoder().fit_transform(df['oda_sayisi'])\n",
    "df['ilce'] = LabelEncoder().fit_transform(df['ilce'])\n",
    "\n",
    "X = df.drop('konut_fiyati', axis=1)\n",
    "y = df['konut_fiyati']\n",
    "\n",
    "X_train, X_test, y_train, y_test = train_test_split(X, y, test_size=0.2, random_state=42)\n",
    "\n",
    "model = RandomForestRegressor()\n",
    "model.fit(X_train, y_train)\n",
    "\n",
    "joblib.dump(model, \"konut_fiyatlama_model.pkl\")\n"
   ]
  }
 ],
 "metadata": {
  "kernelspec": {
   "display_name": "Python 3",
   "language": "python",
   "name": "python3"
  },
  "language_info": {
   "codemirror_mode": {
    "name": "ipython",
    "version": 3
   },
   "file_extension": ".py",
   "mimetype": "text/x-python",
   "name": "python",
   "nbconvert_exporter": "python",
   "pygments_lexer": "ipython3",
   "version": "3.13.2"
  }
 },
 "nbformat": 4,
 "nbformat_minor": 5
}
